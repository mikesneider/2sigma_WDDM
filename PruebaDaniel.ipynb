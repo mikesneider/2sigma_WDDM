{
 "cells": [
  {
   "cell_type": "code",
   "execution_count": 1,
   "metadata": {
    "collapsed": true
   },
   "outputs": [],
   "source": [
    "import numpy as np\n",
    "import pandas as pd\n",
    "from sklearn.svm import SVR\n",
    "%matplotlib inline"
   ]
  },
  {
   "cell_type": "code",
   "execution_count": 2,
   "metadata": {
    "collapsed": true
   },
   "outputs": [],
   "source": [
    "df = pd.read_hdf(\"datos.h5\")"
   ]
  },
  {
   "cell_type": "code",
   "execution_count": 9,
   "metadata": {
    "collapsed": false
   },
   "outputs": [
    {
     "data": {
      "text/html": [
       "<div>\n",
       "<table border=\"1\" class=\"dataframe\">\n",
       "  <thead>\n",
       "    <tr style=\"text-align: right;\">\n",
       "      <th></th>\n",
       "      <th>timestamp</th>\n",
       "      <th>derived_0</th>\n",
       "      <th>derived_4</th>\n",
       "      <th>fundamental_1</th>\n",
       "      <th>fundamental_2</th>\n",
       "      <th>fundamental_6</th>\n",
       "      <th>fundamental_11</th>\n",
       "      <th>fundamental_15</th>\n",
       "      <th>fundamental_17</th>\n",
       "      <th>fundamental_18</th>\n",
       "      <th>...</th>\n",
       "      <th>technical_10</th>\n",
       "      <th>technical_14</th>\n",
       "      <th>technical_19</th>\n",
       "      <th>technical_20</th>\n",
       "      <th>technical_21</th>\n",
       "      <th>technical_27</th>\n",
       "      <th>technical_30</th>\n",
       "      <th>technical_35</th>\n",
       "      <th>technical_40</th>\n",
       "      <th>y</th>\n",
       "    </tr>\n",
       "  </thead>\n",
       "  <tbody>\n",
       "    <tr>\n",
       "      <th>0</th>\n",
       "      <td>0</td>\n",
       "      <td>0.020306</td>\n",
       "      <td>-0.021868</td>\n",
       "      <td>0.010149</td>\n",
       "      <td>0.549544</td>\n",
       "      <td>-0.152182</td>\n",
       "      <td>0.600760</td>\n",
       "      <td>0.682014</td>\n",
       "      <td>-0.009471</td>\n",
       "      <td>0.097851</td>\n",
       "      <td>...</td>\n",
       "      <td>-1.299516</td>\n",
       "      <td>-1.032644</td>\n",
       "      <td>0.861572</td>\n",
       "      <td>-0.506634</td>\n",
       "      <td>-0.057541</td>\n",
       "      <td>2.229043</td>\n",
       "      <td>-0.44177</td>\n",
       "      <td>1.886968</td>\n",
       "      <td>-1.496165</td>\n",
       "      <td>-0.534454</td>\n",
       "    </tr>\n",
       "    <tr>\n",
       "      <th>1</th>\n",
       "      <td>0</td>\n",
       "      <td>0.018850</td>\n",
       "      <td>-0.022813</td>\n",
       "      <td>0.010149</td>\n",
       "      <td>-0.014142</td>\n",
       "      <td>-0.040008</td>\n",
       "      <td>0.019107</td>\n",
       "      <td>-0.170705</td>\n",
       "      <td>-0.009471</td>\n",
       "      <td>0.048925</td>\n",
       "      <td>...</td>\n",
       "      <td>0.845596</td>\n",
       "      <td>1.014638</td>\n",
       "      <td>-0.421740</td>\n",
       "      <td>-0.506634</td>\n",
       "      <td>-0.131704</td>\n",
       "      <td>0.341856</td>\n",
       "      <td>-0.44177</td>\n",
       "      <td>0.608138</td>\n",
       "      <td>-1.040825</td>\n",
       "      <td>-0.065244</td>\n",
       "    </tr>\n",
       "    <tr>\n",
       "      <th>2</th>\n",
       "      <td>0</td>\n",
       "      <td>0.018747</td>\n",
       "      <td>-0.022855</td>\n",
       "      <td>0.010149</td>\n",
       "      <td>-0.184758</td>\n",
       "      <td>-0.137126</td>\n",
       "      <td>-0.232021</td>\n",
       "      <td>-0.153639</td>\n",
       "      <td>-0.009471</td>\n",
       "      <td>0.071812</td>\n",
       "      <td>...</td>\n",
       "      <td>-1.299516</td>\n",
       "      <td>-1.032644</td>\n",
       "      <td>-0.539723</td>\n",
       "      <td>1.912469</td>\n",
       "      <td>0.060343</td>\n",
       "      <td>0.673551</td>\n",
       "      <td>-0.44177</td>\n",
       "      <td>0.862796</td>\n",
       "      <td>-0.725057</td>\n",
       "      <td>-0.944430</td>\n",
       "    </tr>\n",
       "    <tr>\n",
       "      <th>3</th>\n",
       "      <td>0</td>\n",
       "      <td>0.018951</td>\n",
       "      <td>-0.022671</td>\n",
       "      <td>0.010149</td>\n",
       "      <td>0.048314</td>\n",
       "      <td>-0.083133</td>\n",
       "      <td>0.099103</td>\n",
       "      <td>-0.079014</td>\n",
       "      <td>-0.009471</td>\n",
       "      <td>0.040823</td>\n",
       "      <td>...</td>\n",
       "      <td>0.039061</td>\n",
       "      <td>-1.032644</td>\n",
       "      <td>1.273264</td>\n",
       "      <td>1.851189</td>\n",
       "      <td>0.366873</td>\n",
       "      <td>1.630418</td>\n",
       "      <td>-0.44177</td>\n",
       "      <td>1.548365</td>\n",
       "      <td>-0.840517</td>\n",
       "      <td>-0.722165</td>\n",
       "    </tr>\n",
       "    <tr>\n",
       "      <th>4</th>\n",
       "      <td>0</td>\n",
       "      <td>0.019513</td>\n",
       "      <td>-0.022547</td>\n",
       "      <td>0.010149</td>\n",
       "      <td>0.044792</td>\n",
       "      <td>-0.218964</td>\n",
       "      <td>0.031509</td>\n",
       "      <td>-0.141294</td>\n",
       "      <td>-0.009471</td>\n",
       "      <td>0.067330</td>\n",
       "      <td>...</td>\n",
       "      <td>0.845596</td>\n",
       "      <td>-1.032644</td>\n",
       "      <td>-0.040300</td>\n",
       "      <td>1.666613</td>\n",
       "      <td>-0.176934</td>\n",
       "      <td>1.212064</td>\n",
       "      <td>-0.44177</td>\n",
       "      <td>1.266015</td>\n",
       "      <td>-0.164613</td>\n",
       "      <td>-0.337383</td>\n",
       "    </tr>\n",
       "  </tbody>\n",
       "</table>\n",
       "<p>5 rows × 38 columns</p>\n",
       "</div>"
      ],
      "text/plain": [
       "   timestamp  derived_0  derived_4  fundamental_1  fundamental_2  \\\n",
       "0          0   0.020306  -0.021868       0.010149       0.549544   \n",
       "1          0   0.018850  -0.022813       0.010149      -0.014142   \n",
       "2          0   0.018747  -0.022855       0.010149      -0.184758   \n",
       "3          0   0.018951  -0.022671       0.010149       0.048314   \n",
       "4          0   0.019513  -0.022547       0.010149       0.044792   \n",
       "\n",
       "   fundamental_6  fundamental_11  fundamental_15  fundamental_17  \\\n",
       "0      -0.152182        0.600760        0.682014       -0.009471   \n",
       "1      -0.040008        0.019107       -0.170705       -0.009471   \n",
       "2      -0.137126       -0.232021       -0.153639       -0.009471   \n",
       "3      -0.083133        0.099103       -0.079014       -0.009471   \n",
       "4      -0.218964        0.031509       -0.141294       -0.009471   \n",
       "\n",
       "   fundamental_18    ...     technical_10  technical_14  technical_19  \\\n",
       "0        0.097851    ...        -1.299516     -1.032644      0.861572   \n",
       "1        0.048925    ...         0.845596      1.014638     -0.421740   \n",
       "2        0.071812    ...        -1.299516     -1.032644     -0.539723   \n",
       "3        0.040823    ...         0.039061     -1.032644      1.273264   \n",
       "4        0.067330    ...         0.845596     -1.032644     -0.040300   \n",
       "\n",
       "   technical_20  technical_21  technical_27  technical_30  technical_35  \\\n",
       "0     -0.506634     -0.057541      2.229043      -0.44177      1.886968   \n",
       "1     -0.506634     -0.131704      0.341856      -0.44177      0.608138   \n",
       "2      1.912469      0.060343      0.673551      -0.44177      0.862796   \n",
       "3      1.851189      0.366873      1.630418      -0.44177      1.548365   \n",
       "4      1.666613     -0.176934      1.212064      -0.44177      1.266015   \n",
       "\n",
       "   technical_40         y  \n",
       "0     -1.496165 -0.534454  \n",
       "1     -1.040825 -0.065244  \n",
       "2     -0.725057 -0.944430  \n",
       "3     -0.840517 -0.722165  \n",
       "4     -0.164613 -0.337383  \n",
       "\n",
       "[5 rows x 38 columns]"
      ]
     },
     "execution_count": 9,
     "metadata": {},
     "output_type": "execute_result"
    }
   ],
   "source": [
    "df.head()"
   ]
  },
  {
   "cell_type": "code",
   "execution_count": 3,
   "metadata": {
    "collapsed": false
   },
   "outputs": [
    {
     "name": "stdout",
     "output_type": "stream",
     "text": [
      "34238 136518\n"
     ]
    }
   ],
   "source": [
    "# dividir en muestras de entrenamiento y validacion \n",
    "# http://scikit-learn.org/stable/modules/generated/sklearn.model_selection.train_test_split.html\n",
    "# http://scikit-learn.org/stable/modules/cross_validation.html\n",
    "msk = np.random.rand(len(df)) < 0.02\n",
    "train = df[msk]\n",
    "validation = df[~msk]\n",
    "validation = validation[1540000:]\n",
    "print len(train), len(validation)"
   ]
  },
  {
   "cell_type": "code",
   "execution_count": 6,
   "metadata": {
    "collapsed": false
   },
   "outputs": [
    {
     "data": {
      "text/html": [
       "<div>\n",
       "<table border=\"1\" class=\"dataframe\">\n",
       "  <thead>\n",
       "    <tr style=\"text-align: right;\">\n",
       "      <th></th>\n",
       "      <th>timestamp</th>\n",
       "      <th>derived_0</th>\n",
       "      <th>derived_4</th>\n",
       "      <th>fundamental_1</th>\n",
       "      <th>fundamental_2</th>\n",
       "      <th>fundamental_6</th>\n",
       "      <th>fundamental_11</th>\n",
       "      <th>fundamental_15</th>\n",
       "      <th>fundamental_17</th>\n",
       "      <th>fundamental_18</th>\n",
       "      <th>...</th>\n",
       "      <th>technical_10</th>\n",
       "      <th>technical_14</th>\n",
       "      <th>technical_19</th>\n",
       "      <th>technical_20</th>\n",
       "      <th>technical_21</th>\n",
       "      <th>technical_27</th>\n",
       "      <th>technical_30</th>\n",
       "      <th>technical_35</th>\n",
       "      <th>technical_40</th>\n",
       "      <th>y</th>\n",
       "    </tr>\n",
       "  </thead>\n",
       "  <tbody>\n",
       "    <tr>\n",
       "      <th>1707016</th>\n",
       "      <td>1809</td>\n",
       "      <td>0.009957</td>\n",
       "      <td>-0.013052</td>\n",
       "      <td>0.010149</td>\n",
       "      <td>0.017834</td>\n",
       "      <td>-0.152182</td>\n",
       "      <td>0.038316</td>\n",
       "      <td>-0.009088</td>\n",
       "      <td>-0.009471</td>\n",
       "      <td>-0.237512</td>\n",
       "      <td>...</td>\n",
       "      <td>-1.299516</td>\n",
       "      <td>1.014635</td>\n",
       "      <td>-0.282253</td>\n",
       "      <td>-0.506634</td>\n",
       "      <td>0.186370</td>\n",
       "      <td>0.270754</td>\n",
       "      <td>-0.441770</td>\n",
       "      <td>0.331322</td>\n",
       "      <td>1.772763</td>\n",
       "      <td>0.410335</td>\n",
       "    </tr>\n",
       "    <tr>\n",
       "      <th>1707017</th>\n",
       "      <td>1809</td>\n",
       "      <td>0.018848</td>\n",
       "      <td>-0.022401</td>\n",
       "      <td>0.010149</td>\n",
       "      <td>0.017834</td>\n",
       "      <td>-0.117596</td>\n",
       "      <td>0.038316</td>\n",
       "      <td>0.404326</td>\n",
       "      <td>-0.009471</td>\n",
       "      <td>0.113548</td>\n",
       "      <td>...</td>\n",
       "      <td>-1.299516</td>\n",
       "      <td>-1.032589</td>\n",
       "      <td>-0.053481</td>\n",
       "      <td>0.546790</td>\n",
       "      <td>0.179366</td>\n",
       "      <td>-0.627092</td>\n",
       "      <td>-0.441770</td>\n",
       "      <td>-0.151840</td>\n",
       "      <td>-0.473281</td>\n",
       "      <td>-1.812712</td>\n",
       "    </tr>\n",
       "    <tr>\n",
       "      <th>1707018</th>\n",
       "      <td>1809</td>\n",
       "      <td>0.018701</td>\n",
       "      <td>-0.022647</td>\n",
       "      <td>0.010149</td>\n",
       "      <td>0.104470</td>\n",
       "      <td>-0.152182</td>\n",
       "      <td>0.203332</td>\n",
       "      <td>0.013510</td>\n",
       "      <td>-0.009471</td>\n",
       "      <td>0.079492</td>\n",
       "      <td>...</td>\n",
       "      <td>0.845596</td>\n",
       "      <td>1.014638</td>\n",
       "      <td>-0.012055</td>\n",
       "      <td>-0.506634</td>\n",
       "      <td>0.072139</td>\n",
       "      <td>-0.170611</td>\n",
       "      <td>0.499709</td>\n",
       "      <td>0.436171</td>\n",
       "      <td>-0.840668</td>\n",
       "      <td>0.058167</td>\n",
       "    </tr>\n",
       "    <tr>\n",
       "      <th>1707019</th>\n",
       "      <td>1809</td>\n",
       "      <td>0.018519</td>\n",
       "      <td>-0.023627</td>\n",
       "      <td>0.010149</td>\n",
       "      <td>0.087561</td>\n",
       "      <td>-0.753979</td>\n",
       "      <td>0.106572</td>\n",
       "      <td>0.052988</td>\n",
       "      <td>-0.009471</td>\n",
       "      <td>-0.087633</td>\n",
       "      <td>...</td>\n",
       "      <td>-1.299516</td>\n",
       "      <td>-1.032644</td>\n",
       "      <td>-0.212535</td>\n",
       "      <td>0.415331</td>\n",
       "      <td>0.310200</td>\n",
       "      <td>0.367124</td>\n",
       "      <td>-0.441770</td>\n",
       "      <td>-0.126265</td>\n",
       "      <td>-0.193641</td>\n",
       "      <td>-0.005750</td>\n",
       "    </tr>\n",
       "    <tr>\n",
       "      <th>1707020</th>\n",
       "      <td>1809</td>\n",
       "      <td>0.008558</td>\n",
       "      <td>-0.023158</td>\n",
       "      <td>0.010149</td>\n",
       "      <td>0.184606</td>\n",
       "      <td>-0.487258</td>\n",
       "      <td>0.118304</td>\n",
       "      <td>0.290194</td>\n",
       "      <td>-0.009471</td>\n",
       "      <td>-0.443922</td>\n",
       "      <td>...</td>\n",
       "      <td>-1.299516</td>\n",
       "      <td>1.014635</td>\n",
       "      <td>-0.273901</td>\n",
       "      <td>-0.506634</td>\n",
       "      <td>0.008979</td>\n",
       "      <td>1.255780</td>\n",
       "      <td>0.814191</td>\n",
       "      <td>1.617624</td>\n",
       "      <td>1.189460</td>\n",
       "      <td>0.119517</td>\n",
       "    </tr>\n",
       "  </tbody>\n",
       "</table>\n",
       "<p>5 rows × 38 columns</p>\n",
       "</div>"
      ],
      "text/plain": [
       "         timestamp  derived_0  derived_4  fundamental_1  fundamental_2  \\\n",
       "1707016       1809   0.009957  -0.013052       0.010149       0.017834   \n",
       "1707017       1809   0.018848  -0.022401       0.010149       0.017834   \n",
       "1707018       1809   0.018701  -0.022647       0.010149       0.104470   \n",
       "1707019       1809   0.018519  -0.023627       0.010149       0.087561   \n",
       "1707020       1809   0.008558  -0.023158       0.010149       0.184606   \n",
       "\n",
       "         fundamental_6  fundamental_11  fundamental_15  fundamental_17  \\\n",
       "1707016      -0.152182        0.038316       -0.009088       -0.009471   \n",
       "1707017      -0.117596        0.038316        0.404326       -0.009471   \n",
       "1707018      -0.152182        0.203332        0.013510       -0.009471   \n",
       "1707019      -0.753979        0.106572        0.052988       -0.009471   \n",
       "1707020      -0.487258        0.118304        0.290194       -0.009471   \n",
       "\n",
       "         fundamental_18    ...     technical_10  technical_14  technical_19  \\\n",
       "1707016       -0.237512    ...        -1.299516      1.014635     -0.282253   \n",
       "1707017        0.113548    ...        -1.299516     -1.032589     -0.053481   \n",
       "1707018        0.079492    ...         0.845596      1.014638     -0.012055   \n",
       "1707019       -0.087633    ...        -1.299516     -1.032644     -0.212535   \n",
       "1707020       -0.443922    ...        -1.299516      1.014635     -0.273901   \n",
       "\n",
       "         technical_20  technical_21  technical_27  technical_30  technical_35  \\\n",
       "1707016     -0.506634      0.186370      0.270754     -0.441770      0.331322   \n",
       "1707017      0.546790      0.179366     -0.627092     -0.441770     -0.151840   \n",
       "1707018     -0.506634      0.072139     -0.170611      0.499709      0.436171   \n",
       "1707019      0.415331      0.310200      0.367124     -0.441770     -0.126265   \n",
       "1707020     -0.506634      0.008979      1.255780      0.814191      1.617624   \n",
       "\n",
       "         technical_40         y  \n",
       "1707016      1.772763  0.410335  \n",
       "1707017     -0.473281 -1.812712  \n",
       "1707018     -0.840668  0.058167  \n",
       "1707019     -0.193641 -0.005750  \n",
       "1707020      1.189460  0.119517  \n",
       "\n",
       "[5 rows x 38 columns]"
      ]
     },
     "execution_count": 6,
     "metadata": {},
     "output_type": "execute_result"
    }
   ],
   "source": [
    "validation.head()"
   ]
  },
  {
   "cell_type": "code",
   "execution_count": 4,
   "metadata": {
    "collapsed": false
   },
   "outputs": [],
   "source": [
    "# se separa el dataframe de entrenamiento -train- en variable dependientes e independientes \n",
    "X = train.drop(axis=1,labels = 'y')\n",
    "Y = train.y"
   ]
  },
  {
   "cell_type": "code",
   "execution_count": 5,
   "metadata": {
    "collapsed": true
   },
   "outputs": [],
   "source": [
    "modelo = SVR(C=2, epsilon = 0.8, gamma = 2, tol= 0.1)"
   ]
  },
  {
   "cell_type": "code",
   "execution_count": 6,
   "metadata": {
    "collapsed": false
   },
   "outputs": [
    {
     "data": {
      "text/plain": [
       "SVR(C=2, cache_size=200, coef0=0.0, degree=3, epsilon=0.8, gamma=2,\n",
       "  kernel='rbf', max_iter=-1, shrinking=True, tol=0.1, verbose=False)"
      ]
     },
     "execution_count": 6,
     "metadata": {},
     "output_type": "execute_result"
    }
   ],
   "source": [
    "modelo.fit(X,Y)\n",
    "\n"
   ]
  },
  {
   "cell_type": "code",
   "execution_count": 7,
   "metadata": {
    "collapsed": false
   },
   "outputs": [
    {
     "name": "stdout",
     "output_type": "stream",
     "text": [
      "0.649727305737\n"
     ]
    }
   ],
   "source": [
    "print modelo.score(X,Y)"
   ]
  },
  {
   "cell_type": "code",
   "execution_count": 8,
   "metadata": {
    "collapsed": false
   },
   "outputs": [
    {
     "name": "stdout",
     "output_type": "stream",
     "text": [
      "-0.000885880514071\n"
     ]
    }
   ],
   "source": [
    "print modelo.score(validation.drop(axis=1, labels = 'y'),validation.y)\n"
   ]
  },
  {
   "cell_type": "code",
   "execution_count": null,
   "metadata": {
    "collapsed": true
   },
   "outputs": [],
   "source": []
  }
 ],
 "metadata": {
  "kernelspec": {
   "display_name": "Anaconda 2",
   "language": "python",
   "name": "python2"
  },
  "language_info": {
   "codemirror_mode": {
    "name": "ipython",
    "version": 2
   },
   "file_extension": ".py",
   "mimetype": "text/x-python",
   "name": "python",
   "nbconvert_exporter": "python",
   "pygments_lexer": "ipython2",
   "version": "2.7.12"
  }
 },
 "nbformat": 4,
 "nbformat_minor": 1
}
